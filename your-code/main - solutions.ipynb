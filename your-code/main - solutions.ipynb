{
  "cells": [
    {
      "cell_type": "markdown",
      "metadata": {
        "id": "iEBPYH3AIhsG"
      },
      "source": [
        "# Before your start:\n",
        "- Read the README.md file\n",
        "- Comment as much as you can and use the resources (README.md file)\n",
        "- Happy learning!"
      ]
    },
    {
      "cell_type": "code",
      "execution_count": 11,
      "metadata": {
        "id": "jOvg91UnIhsH"
      },
      "outputs": [],
      "source": [
        "# import numpy and pandas\n",
        "import pandas as pd\n",
        "import numpy as np\n",
        "from scipy.stats import trim_mean, mode, skew, gaussian_kde, pearsonr, spearmanr, beta\n",
        "from statsmodels.stats.weightstats import ztest as ztest\n",
        "\n",
        "from scipy.stats import ttest_ind, norm, t\n",
        "from scipy.stats import f_oneway\n",
        "from scipy.stats import sem"
      ]
    },
    {
      "cell_type": "markdown",
      "metadata": {
        "id": "y8tqL1iGIhsI"
      },
      "source": [
        "# Challenge 1 - Exploring the Data\n",
        "\n",
        "In this challenge, we will examine all salaries of employees of the City of Chicago. We will start by loading the dataset and examining its contents"
      ]
    },
    {
      "cell_type": "code",
      "execution_count": 12,
      "metadata": {
        "id": "RA3z4eryIhsI"
      },
      "outputs": [],
      "source": [
        "# Run this code:\n",
        "salaries = pd.read_csv('Current_Employee_Names__Salaries__and_Position_Titles.csv')"
      ]
    },
    {
      "cell_type": "markdown",
      "metadata": {
        "id": "2b4je-LbIhsI"
      },
      "source": [
        "Examine the `salaries` dataset using the `head` function below."
      ]
    },
    {
      "cell_type": "code",
      "execution_count": 9,
      "metadata": {
        "colab": {
          "base_uri": "https://localhost:8080/",
          "height": 206
        },
        "id": "kJ_KiTbKIhsI",
        "outputId": "ff73b9d7-fae1-4ae2-f803-47842ba2b559"
      },
      "outputs": [
        {
          "output_type": "execute_result",
          "data": {
            "text/plain": [
              "                  Name                              Job Titles  \\\n",
              "0    AARON,  JEFFERY M                                SERGEANT   \n",
              "1      AARON,  KARINA   POLICE OFFICER (ASSIGNED AS DETECTIVE)   \n",
              "2  AARON,  KIMBERLEI R                CHIEF CONTRACT EXPEDITER   \n",
              "3  ABAD JR,  VICENTE M                       CIVIL ENGINEER IV   \n",
              "4    ABASCAL,  REECE E             TRAFFIC CONTROL AIDE-HOURLY   \n",
              "\n",
              "         Department Full or Part-Time Salary or Hourly  Typical Hours  \\\n",
              "0            POLICE                 F           Salary            NaN   \n",
              "1            POLICE                 F           Salary            NaN   \n",
              "2  GENERAL SERVICES                 F           Salary            NaN   \n",
              "3       WATER MGMNT                 F           Salary            NaN   \n",
              "4              OEMC                 P           Hourly           20.0   \n",
              "\n",
              "   Annual Salary  Hourly Rate  \n",
              "0       101442.0          NaN  \n",
              "1        94122.0          NaN  \n",
              "2       101592.0          NaN  \n",
              "3       110064.0          NaN  \n",
              "4            NaN        19.86  "
            ],
            "text/html": [
              "\n",
              "  <div id=\"df-f40f9428-1900-47d1-808d-c68fe3370449\" class=\"colab-df-container\">\n",
              "    <div>\n",
              "<style scoped>\n",
              "    .dataframe tbody tr th:only-of-type {\n",
              "        vertical-align: middle;\n",
              "    }\n",
              "\n",
              "    .dataframe tbody tr th {\n",
              "        vertical-align: top;\n",
              "    }\n",
              "\n",
              "    .dataframe thead th {\n",
              "        text-align: right;\n",
              "    }\n",
              "</style>\n",
              "<table border=\"1\" class=\"dataframe\">\n",
              "  <thead>\n",
              "    <tr style=\"text-align: right;\">\n",
              "      <th></th>\n",
              "      <th>Name</th>\n",
              "      <th>Job Titles</th>\n",
              "      <th>Department</th>\n",
              "      <th>Full or Part-Time</th>\n",
              "      <th>Salary or Hourly</th>\n",
              "      <th>Typical Hours</th>\n",
              "      <th>Annual Salary</th>\n",
              "      <th>Hourly Rate</th>\n",
              "    </tr>\n",
              "  </thead>\n",
              "  <tbody>\n",
              "    <tr>\n",
              "      <th>0</th>\n",
              "      <td>AARON,  JEFFERY M</td>\n",
              "      <td>SERGEANT</td>\n",
              "      <td>POLICE</td>\n",
              "      <td>F</td>\n",
              "      <td>Salary</td>\n",
              "      <td>NaN</td>\n",
              "      <td>101442.0</td>\n",
              "      <td>NaN</td>\n",
              "    </tr>\n",
              "    <tr>\n",
              "      <th>1</th>\n",
              "      <td>AARON,  KARINA</td>\n",
              "      <td>POLICE OFFICER (ASSIGNED AS DETECTIVE)</td>\n",
              "      <td>POLICE</td>\n",
              "      <td>F</td>\n",
              "      <td>Salary</td>\n",
              "      <td>NaN</td>\n",
              "      <td>94122.0</td>\n",
              "      <td>NaN</td>\n",
              "    </tr>\n",
              "    <tr>\n",
              "      <th>2</th>\n",
              "      <td>AARON,  KIMBERLEI R</td>\n",
              "      <td>CHIEF CONTRACT EXPEDITER</td>\n",
              "      <td>GENERAL SERVICES</td>\n",
              "      <td>F</td>\n",
              "      <td>Salary</td>\n",
              "      <td>NaN</td>\n",
              "      <td>101592.0</td>\n",
              "      <td>NaN</td>\n",
              "    </tr>\n",
              "    <tr>\n",
              "      <th>3</th>\n",
              "      <td>ABAD JR,  VICENTE M</td>\n",
              "      <td>CIVIL ENGINEER IV</td>\n",
              "      <td>WATER MGMNT</td>\n",
              "      <td>F</td>\n",
              "      <td>Salary</td>\n",
              "      <td>NaN</td>\n",
              "      <td>110064.0</td>\n",
              "      <td>NaN</td>\n",
              "    </tr>\n",
              "    <tr>\n",
              "      <th>4</th>\n",
              "      <td>ABASCAL,  REECE E</td>\n",
              "      <td>TRAFFIC CONTROL AIDE-HOURLY</td>\n",
              "      <td>OEMC</td>\n",
              "      <td>P</td>\n",
              "      <td>Hourly</td>\n",
              "      <td>20.0</td>\n",
              "      <td>NaN</td>\n",
              "      <td>19.86</td>\n",
              "    </tr>\n",
              "  </tbody>\n",
              "</table>\n",
              "</div>\n",
              "    <div class=\"colab-df-buttons\">\n",
              "\n",
              "  <div class=\"colab-df-container\">\n",
              "    <button class=\"colab-df-convert\" onclick=\"convertToInteractive('df-f40f9428-1900-47d1-808d-c68fe3370449')\"\n",
              "            title=\"Convert this dataframe to an interactive table.\"\n",
              "            style=\"display:none;\">\n",
              "\n",
              "  <svg xmlns=\"http://www.w3.org/2000/svg\" height=\"24px\" viewBox=\"0 -960 960 960\">\n",
              "    <path d=\"M120-120v-720h720v720H120Zm60-500h600v-160H180v160Zm220 220h160v-160H400v160Zm0 220h160v-160H400v160ZM180-400h160v-160H180v160Zm440 0h160v-160H620v160ZM180-180h160v-160H180v160Zm440 0h160v-160H620v160Z\"/>\n",
              "  </svg>\n",
              "    </button>\n",
              "\n",
              "  <style>\n",
              "    .colab-df-container {\n",
              "      display:flex;\n",
              "      gap: 12px;\n",
              "    }\n",
              "\n",
              "    .colab-df-convert {\n",
              "      background-color: #E8F0FE;\n",
              "      border: none;\n",
              "      border-radius: 50%;\n",
              "      cursor: pointer;\n",
              "      display: none;\n",
              "      fill: #1967D2;\n",
              "      height: 32px;\n",
              "      padding: 0 0 0 0;\n",
              "      width: 32px;\n",
              "    }\n",
              "\n",
              "    .colab-df-convert:hover {\n",
              "      background-color: #E2EBFA;\n",
              "      box-shadow: 0px 1px 2px rgba(60, 64, 67, 0.3), 0px 1px 3px 1px rgba(60, 64, 67, 0.15);\n",
              "      fill: #174EA6;\n",
              "    }\n",
              "\n",
              "    .colab-df-buttons div {\n",
              "      margin-bottom: 4px;\n",
              "    }\n",
              "\n",
              "    [theme=dark] .colab-df-convert {\n",
              "      background-color: #3B4455;\n",
              "      fill: #D2E3FC;\n",
              "    }\n",
              "\n",
              "    [theme=dark] .colab-df-convert:hover {\n",
              "      background-color: #434B5C;\n",
              "      box-shadow: 0px 1px 3px 1px rgba(0, 0, 0, 0.15);\n",
              "      filter: drop-shadow(0px 1px 2px rgba(0, 0, 0, 0.3));\n",
              "      fill: #FFFFFF;\n",
              "    }\n",
              "  </style>\n",
              "\n",
              "    <script>\n",
              "      const buttonEl =\n",
              "        document.querySelector('#df-f40f9428-1900-47d1-808d-c68fe3370449 button.colab-df-convert');\n",
              "      buttonEl.style.display =\n",
              "        google.colab.kernel.accessAllowed ? 'block' : 'none';\n",
              "\n",
              "      async function convertToInteractive(key) {\n",
              "        const element = document.querySelector('#df-f40f9428-1900-47d1-808d-c68fe3370449');\n",
              "        const dataTable =\n",
              "          await google.colab.kernel.invokeFunction('convertToInteractive',\n",
              "                                                    [key], {});\n",
              "        if (!dataTable) return;\n",
              "\n",
              "        const docLinkHtml = 'Like what you see? Visit the ' +\n",
              "          '<a target=\"_blank\" href=https://colab.research.google.com/notebooks/data_table.ipynb>data table notebook</a>'\n",
              "          + ' to learn more about interactive tables.';\n",
              "        element.innerHTML = '';\n",
              "        dataTable['output_type'] = 'display_data';\n",
              "        await google.colab.output.renderOutput(dataTable, element);\n",
              "        const docLink = document.createElement('div');\n",
              "        docLink.innerHTML = docLinkHtml;\n",
              "        element.appendChild(docLink);\n",
              "      }\n",
              "    </script>\n",
              "  </div>\n",
              "\n",
              "\n",
              "<div id=\"df-afd7ca4d-dc31-4949-843a-dae9c3989c9a\">\n",
              "  <button class=\"colab-df-quickchart\" onclick=\"quickchart('df-afd7ca4d-dc31-4949-843a-dae9c3989c9a')\"\n",
              "            title=\"Suggest charts\"\n",
              "            style=\"display:none;\">\n",
              "\n",
              "<svg xmlns=\"http://www.w3.org/2000/svg\" height=\"24px\"viewBox=\"0 0 24 24\"\n",
              "     width=\"24px\">\n",
              "    <g>\n",
              "        <path d=\"M19 3H5c-1.1 0-2 .9-2 2v14c0 1.1.9 2 2 2h14c1.1 0 2-.9 2-2V5c0-1.1-.9-2-2-2zM9 17H7v-7h2v7zm4 0h-2V7h2v10zm4 0h-2v-4h2v4z\"/>\n",
              "    </g>\n",
              "</svg>\n",
              "  </button>\n",
              "\n",
              "<style>\n",
              "  .colab-df-quickchart {\n",
              "      --bg-color: #E8F0FE;\n",
              "      --fill-color: #1967D2;\n",
              "      --hover-bg-color: #E2EBFA;\n",
              "      --hover-fill-color: #174EA6;\n",
              "      --disabled-fill-color: #AAA;\n",
              "      --disabled-bg-color: #DDD;\n",
              "  }\n",
              "\n",
              "  [theme=dark] .colab-df-quickchart {\n",
              "      --bg-color: #3B4455;\n",
              "      --fill-color: #D2E3FC;\n",
              "      --hover-bg-color: #434B5C;\n",
              "      --hover-fill-color: #FFFFFF;\n",
              "      --disabled-bg-color: #3B4455;\n",
              "      --disabled-fill-color: #666;\n",
              "  }\n",
              "\n",
              "  .colab-df-quickchart {\n",
              "    background-color: var(--bg-color);\n",
              "    border: none;\n",
              "    border-radius: 50%;\n",
              "    cursor: pointer;\n",
              "    display: none;\n",
              "    fill: var(--fill-color);\n",
              "    height: 32px;\n",
              "    padding: 0;\n",
              "    width: 32px;\n",
              "  }\n",
              "\n",
              "  .colab-df-quickchart:hover {\n",
              "    background-color: var(--hover-bg-color);\n",
              "    box-shadow: 0 1px 2px rgba(60, 64, 67, 0.3), 0 1px 3px 1px rgba(60, 64, 67, 0.15);\n",
              "    fill: var(--button-hover-fill-color);\n",
              "  }\n",
              "\n",
              "  .colab-df-quickchart-complete:disabled,\n",
              "  .colab-df-quickchart-complete:disabled:hover {\n",
              "    background-color: var(--disabled-bg-color);\n",
              "    fill: var(--disabled-fill-color);\n",
              "    box-shadow: none;\n",
              "  }\n",
              "\n",
              "  .colab-df-spinner {\n",
              "    border: 2px solid var(--fill-color);\n",
              "    border-color: transparent;\n",
              "    border-bottom-color: var(--fill-color);\n",
              "    animation:\n",
              "      spin 1s steps(1) infinite;\n",
              "  }\n",
              "\n",
              "  @keyframes spin {\n",
              "    0% {\n",
              "      border-color: transparent;\n",
              "      border-bottom-color: var(--fill-color);\n",
              "      border-left-color: var(--fill-color);\n",
              "    }\n",
              "    20% {\n",
              "      border-color: transparent;\n",
              "      border-left-color: var(--fill-color);\n",
              "      border-top-color: var(--fill-color);\n",
              "    }\n",
              "    30% {\n",
              "      border-color: transparent;\n",
              "      border-left-color: var(--fill-color);\n",
              "      border-top-color: var(--fill-color);\n",
              "      border-right-color: var(--fill-color);\n",
              "    }\n",
              "    40% {\n",
              "      border-color: transparent;\n",
              "      border-right-color: var(--fill-color);\n",
              "      border-top-color: var(--fill-color);\n",
              "    }\n",
              "    60% {\n",
              "      border-color: transparent;\n",
              "      border-right-color: var(--fill-color);\n",
              "    }\n",
              "    80% {\n",
              "      border-color: transparent;\n",
              "      border-right-color: var(--fill-color);\n",
              "      border-bottom-color: var(--fill-color);\n",
              "    }\n",
              "    90% {\n",
              "      border-color: transparent;\n",
              "      border-bottom-color: var(--fill-color);\n",
              "    }\n",
              "  }\n",
              "</style>\n",
              "\n",
              "  <script>\n",
              "    async function quickchart(key) {\n",
              "      const quickchartButtonEl =\n",
              "        document.querySelector('#' + key + ' button');\n",
              "      quickchartButtonEl.disabled = true;  // To prevent multiple clicks.\n",
              "      quickchartButtonEl.classList.add('colab-df-spinner');\n",
              "      try {\n",
              "        const charts = await google.colab.kernel.invokeFunction(\n",
              "            'suggestCharts', [key], {});\n",
              "      } catch (error) {\n",
              "        console.error('Error during call to suggestCharts:', error);\n",
              "      }\n",
              "      quickchartButtonEl.classList.remove('colab-df-spinner');\n",
              "      quickchartButtonEl.classList.add('colab-df-quickchart-complete');\n",
              "    }\n",
              "    (() => {\n",
              "      let quickchartButtonEl =\n",
              "        document.querySelector('#df-afd7ca4d-dc31-4949-843a-dae9c3989c9a button');\n",
              "      quickchartButtonEl.style.display =\n",
              "        google.colab.kernel.accessAllowed ? 'block' : 'none';\n",
              "    })();\n",
              "  </script>\n",
              "</div>\n",
              "\n",
              "    </div>\n",
              "  </div>\n"
            ],
            "application/vnd.google.colaboratory.intrinsic+json": {
              "type": "dataframe",
              "variable_name": "salaries",
              "summary": "{\n  \"name\": \"salaries\",\n  \"rows\": 33183,\n  \"fields\": [\n    {\n      \"column\": \"Name\",\n      \"properties\": {\n        \"dtype\": \"string\",\n        \"num_unique_values\": 32880,\n        \"samples\": [\n          \"FORRESTAL,  NICHOLAS P\",\n          \"O CONNELL,  MATTHEW J\",\n          \"CARTAGENA,  WANDA I\"\n        ],\n        \"semantic_type\": \"\",\n        \"description\": \"\"\n      }\n    },\n    {\n      \"column\": \"Job Titles\",\n      \"properties\": {\n        \"dtype\": \"category\",\n        \"num_unique_values\": 1111,\n        \"samples\": [\n          \"FOREMAN OF CEMENT FINISHERS\",\n          \"CERTIFIED MEDICAL ASST\",\n          \"CUSTODIAL WORKER\"\n        ],\n        \"semantic_type\": \"\",\n        \"description\": \"\"\n      }\n    },\n    {\n      \"column\": \"Department\",\n      \"properties\": {\n        \"dtype\": \"category\",\n        \"num_unique_values\": 35,\n        \"samples\": [\n          \"BUDGET & MGMT\",\n          \"BUSINESS AFFAIRS\",\n          \"HUMAN RESOURCES\"\n        ],\n        \"semantic_type\": \"\",\n        \"description\": \"\"\n      }\n    },\n    {\n      \"column\": \"Full or Part-Time\",\n      \"properties\": {\n        \"dtype\": \"category\",\n        \"num_unique_values\": 2,\n        \"samples\": [\n          \"P\",\n          \"F\"\n        ],\n        \"semantic_type\": \"\",\n        \"description\": \"\"\n      }\n    },\n    {\n      \"column\": \"Salary or Hourly\",\n      \"properties\": {\n        \"dtype\": \"category\",\n        \"num_unique_values\": 2,\n        \"samples\": [\n          \"Hourly\",\n          \"Salary\"\n        ],\n        \"semantic_type\": \"\",\n        \"description\": \"\"\n      }\n    },\n    {\n      \"column\": \"Typical Hours\",\n      \"properties\": {\n        \"dtype\": \"number\",\n        \"std\": 9.25207690657732,\n        \"min\": 10.0,\n        \"max\": 40.0,\n        \"num_unique_values\": 4,\n        \"samples\": [\n          40.0,\n          10.0\n        ],\n        \"semantic_type\": \"\",\n        \"description\": \"\"\n      }\n    },\n    {\n      \"column\": \"Annual Salary\",\n      \"properties\": {\n        \"dtype\": \"number\",\n        \"std\": 21041.354601627885,\n        \"min\": 7200.0,\n        \"max\": 300000.0,\n        \"num_unique_values\": 1000,\n        \"samples\": [\n          59976.0,\n          56928.0\n        ],\n        \"semantic_type\": \"\",\n        \"description\": \"\"\n      }\n    },\n    {\n      \"column\": \"Hourly Rate\",\n      \"properties\": {\n        \"dtype\": \"number\",\n        \"std\": 12.11257268427681,\n        \"min\": 2.65,\n        \"max\": 109.0,\n        \"num_unique_values\": 167,\n        \"samples\": [\n          20.24,\n          10.5\n        ],\n        \"semantic_type\": \"\",\n        \"description\": \"\"\n      }\n    }\n  ]\n}"
            }
          },
          "metadata": {},
          "execution_count": 9
        }
      ],
      "source": [
        "salaries.head()"
      ]
    },
    {
      "cell_type": "markdown",
      "metadata": {
        "id": "6vnCuA35IhsI"
      },
      "source": [
        "# Challenge 2\n",
        "This is a placeholder to make the AI corrector be able to find the correct exercise for feedback"
      ]
    },
    {
      "cell_type": "markdown",
      "metadata": {
        "id": "YqcdKR9cIhsJ"
      },
      "source": [
        "# Challenge 3 - Constructing Confidence Intervals\n",
        "\n",
        "We will test whether the hourly wage of all hourly workers is significantly different from $30/hr.\n",
        "\n",
        "In the cell below, we will construct a 95% confidence interval for the mean hourly wage of all hourly workers. Is $30/hr within that interval?\n",
        "\n",
        "The confidence interval is computed in SciPy using the `t.interval` function. You can read more about this function [here](https://docs.scipy.org/doc/scipy-0.14.0/reference/generated/scipy.stats.t.html).\n",
        "\n",
        "To compute the confidence interval of the hourly wage, use the 0.95 for the confidence level, number of rows - 1 for degrees of freedom, the mean of the sample for the location parameter and the standard error for the scale. The standard error can be computed using [this](https://docs.scipy.org/doc/scipy/reference/generated/scipy.stats.sem.html) function in SciPy."
      ]
    },
    {
      "cell_type": "code",
      "execution_count": 14,
      "metadata": {
        "colab": {
          "base_uri": "https://localhost:8080/"
        },
        "id": "KbTuSGkqIhsJ",
        "outputId": "d9f33d07-46d6-44ca-fd2d-ecbd34c09c68"
      },
      "outputs": [
        {
          "output_type": "stream",
          "name": "stdout",
          "text": [
            "(32.65822828339105, 32.918887149169414)\n"
          ]
        }
      ],
      "source": [
        "wages = salaries['Hourly Rate']\n",
        "mean_wage = wages.mean()\n",
        "std_wage = np.std(wages, ddof= 1)\n",
        "n = len(wages)\n",
        "std_error = std_wage / np.sqrt(n)\n",
        "\n",
        "ci = t.interval(0.95, df = n - 1, loc = mean_wage, scale = std_error)\n",
        "\n",
        "print(ci) #The mean hour is significantly different than $30/h\n"
      ]
    },
    {
      "cell_type": "markdown",
      "metadata": {
        "id": "1pHSiViuIhsJ"
      },
      "source": [
        "This is fine if we have thousands of worker data. But what if we have only 100 workers data?\n",
        "\n",
        "Sample 100 workers and re-construct the 95% confidence interval. Is the interval wider of narrower? And why?\n",
        "Do you still encapsulate the $30/hr mark in this case?"
      ]
    },
    {
      "cell_type": "code",
      "execution_count": 18,
      "metadata": {
        "colab": {
          "base_uri": "https://localhost:8080/",
          "height": 55
        },
        "id": "XR_d1dH5IhsJ",
        "outputId": "d44ce3e8-7eb0-4d6b-92f3-0b6fdf004738"
      },
      "outputs": [
        {
          "output_type": "stream",
          "name": "stdout",
          "text": [
            "(27.44535079074585, 33.04160573099328)\n"
          ]
        },
        {
          "output_type": "execute_result",
          "data": {
            "text/plain": [
              "'The interval is wider, because with a sample I cannot have a so precise range where the $30/hr will fall, like I used with the whole dataset. \\nThe $30 will ramdomly fall in the interval depeding on the sample I get'"
            ],
            "application/vnd.google.colaboratory.intrinsic+json": {
              "type": "string"
            }
          },
          "metadata": {},
          "execution_count": 18
        }
      ],
      "source": [
        "# Your code here\n",
        "sample_wages = wages.sample(100)\n",
        "mean_sample_wages = sample_wages.mean()\n",
        "std_sample_wage = np.std(sample_wages, ddof= 1)\n",
        "n = len(sample_wages)\n",
        "std_error_sample_wages = std_sample_wage / np.sqrt(n)\n",
        "\n",
        "ci_sample = t.interval(0.95, df = n - 1, loc = mean_sample_wages, scale = std_error_sample_wages)\n",
        "\n",
        "print(ci_sample)\n",
        "\n",
        "'''The interval is wider, because with a sample I cannot have a so precise range where the $30/hr will fall, like I used with the whole dataset.\n",
        "If I increase the confidence I want, the range must increase as well.\n",
        "The $30 will ramdomly fall in the interval depeding on the sample I get'''\n"
      ]
    },
    {
      "cell_type": "code",
      "source": [],
      "metadata": {
        "id": "xGq2trqy47FM"
      },
      "execution_count": null,
      "outputs": []
    }
  ],
  "metadata": {
    "kernelspec": {
      "display_name": "Python 3 (ipykernel)",
      "language": "python",
      "name": "python3"
    },
    "language_info": {
      "codemirror_mode": {
        "name": "ipython",
        "version": 3
      },
      "file_extension": ".py",
      "mimetype": "text/x-python",
      "name": "python",
      "nbconvert_exporter": "python",
      "pygments_lexer": "ipython3",
      "version": "3.12.2"
    },
    "colab": {
      "provenance": []
    }
  },
  "nbformat": 4,
  "nbformat_minor": 0
}