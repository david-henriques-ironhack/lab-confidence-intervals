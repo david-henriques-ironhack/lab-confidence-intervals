{
 "cells": [
  {
   "cell_type": "markdown",
   "metadata": {},
   "source": [
    "# Before your start:\n",
    "- Read the README.md file\n",
    "- Comment as much as you can and use the resources (README.md file)\n",
    "- Happy learning!"
   ]
  },
  {
   "cell_type": "code",
   "execution_count": 17,
   "metadata": {},
   "outputs": [],
   "source": [
    "# import numpy and pandas\n",
    "import pandas as pd\n",
    "import numpy as np\n",
    "from scipy.stats import trim_mean, mode, skew, gaussian_kde, pearsonr, spearmanr, beta\n",
    "from statsmodels.stats.weightstats import ztest as ztest\n",
    "\n",
    "from scipy.stats import ttest_ind, norm, t\n",
    "from scipy.stats import f_oneway\n",
    "from scipy.stats import sem\n",
    "import scipy.stats as st"
   ]
  },
  {
   "cell_type": "markdown",
   "metadata": {},
   "source": [
    "# Challenge 1 - Exploring the Data\n",
    "\n",
    "In this challenge, we will examine all salaries of employees of the City of Chicago. We will start by loading the dataset and examining its contents"
   ]
  },
  {
   "cell_type": "code",
   "execution_count": 4,
   "metadata": {},
   "outputs": [],
   "source": [
    "# Run this code:\n",
    "salaries = pd.read_csv(r'/Users/Javi/Desktop/lab-confidence-intervals/data/Current_Employee_Names__Salaries__and_Position_Titles.csv')"
   ]
  },
  {
   "cell_type": "markdown",
   "metadata": {},
   "source": [
    "Examine the `salaries` dataset using the `head` function below."
   ]
  },
  {
   "cell_type": "code",
   "execution_count": 25,
   "metadata": {},
   "outputs": [
    {
     "data": {
      "text/plain": [
       "(33183, 8)"
      ]
     },
     "execution_count": 25,
     "metadata": {},
     "output_type": "execute_result"
    }
   ],
   "source": [
    "salaries.head()\n",
    "salaries.shape"
   ]
  },
  {
   "cell_type": "markdown",
   "metadata": {},
   "source": [
    "# Challenge 2\n",
    "This is a placeholder to make the AI corrector be able to find the correct exercise for feedback"
   ]
  },
  {
   "cell_type": "markdown",
   "metadata": {},
   "source": [
    "# Challenge 3 - Constructing Confidence Intervals\n",
    "\n",
    "We will test whether the hourly wage of all hourly workers is significantly different from $30/hr.\n",
    "\n",
    "In the cell below, we will construct a 95% confidence interval for the mean hourly wage of all hourly workers. Is $30/hr within that interval?\n",
    "\n",
    "The confidence interval is computed in SciPy using the `t.interval` function. You can read more about this function [here](https://docs.scipy.org/doc/scipy-0.14.0/reference/generated/scipy.stats.t.html).\n",
    "\n",
    "To compute the confidence interval of the hourly wage, use the 0.95 for the confidence level, number of rows - 1 for degrees of freedom, the mean of the sample for the location parameter and the standard error for the scale. The standard error can be computed using [this](https://docs.scipy.org/doc/scipy/reference/generated/scipy.stats.sem.html) function in SciPy."
   ]
  },
  {
   "cell_type": "code",
   "execution_count": 27,
   "metadata": {},
   "outputs": [
    {
     "data": {
      "text/plain": [
       "(32.65822828339105, 32.918887149169414)"
      ]
     },
     "execution_count": 27,
     "metadata": {},
     "output_type": "execute_result"
    }
   ],
   "source": [
    "mean = salaries['Hourly Rate'].mean()\n",
    "s = salaries['Hourly Rate'].std(ddof=1)\n",
    "n = 33183\n",
    "st.t.interval(0.95, n -1, loc=mean, scale=s/np.sqrt(n)) "
   ]
  },
  {
   "cell_type": "markdown",
   "metadata": {},
   "source": [
    "This is fine if we have thousands of worker data. But what if we have only 100 workers data?\n",
    "\n",
    "Sample 100 workers and re-construct the 95% confidence interval. Is the interval wider of narrower? And why?\n",
    "Do you still encapsulate the $30/hr mark in this case?"
   ]
  },
  {
   "cell_type": "code",
   "execution_count": 33,
   "metadata": {},
   "outputs": [
    {
     "data": {
      "text/plain": [
       "(31.410071036269315, 35.64548451928624)"
      ]
     },
     "execution_count": 33,
     "metadata": {},
     "output_type": "execute_result"
    }
   ],
   "source": [
    "salaries_sample = salaries.sample(100)\n",
    "mean = salaries_sample['Hourly Rate'].mean()\n",
    "s = salaries_sample['Hourly Rate'].std(ddof=1)\n",
    "n = 100\n",
    "st.t.interval(0.95, n -1, loc=mean, scale=s/np.sqrt(n)) "
   ]
  },
  {
   "cell_type": "code",
   "execution_count": null,
   "metadata": {},
   "outputs": [],
   "source": []
  }
 ],
 "metadata": {
  "kernelspec": {
   "display_name": "Python 3 (ipykernel)",
   "language": "python",
   "name": "python3"
  },
  "language_info": {
   "codemirror_mode": {
    "name": "ipython",
    "version": 3
   },
   "file_extension": ".py",
   "mimetype": "text/x-python",
   "name": "python",
   "nbconvert_exporter": "python",
   "pygments_lexer": "ipython3",
   "version": "3.12.4"
  }
 },
 "nbformat": 4,
 "nbformat_minor": 4
}
